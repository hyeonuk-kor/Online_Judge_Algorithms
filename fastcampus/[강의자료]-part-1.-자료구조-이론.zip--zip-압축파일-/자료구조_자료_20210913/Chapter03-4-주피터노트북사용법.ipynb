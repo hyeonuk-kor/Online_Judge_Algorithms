{
 "cells": [
  {
   "cell_type": "markdown",
   "metadata": {},
   "source": [
    "<div class=\"alert alert-block\" style=\"border: 1px solid #455A64;background-color:#ECEFF1;padding:5px;font-size:0.9em;\">\n",
    "본 자료와 관련 영상 컨텐츠는 저작권법 제25조 2항에 의해 보호를 받습니다. <br>본 컨텐츠 및 컨텐츠 일부 문구 등을 외부에 공개하거나, 요약해서 게시하지 말아주세요.\n",
    "</div>"
   ]
  },
  {
   "cell_type": "code",
   "execution_count": 4,
   "metadata": {},
   "outputs": [
    {
     "name": "stdout",
     "output_type": "stream",
     "text": [
      "test\n"
     ]
    }
   ],
   "source": [
    "print('test')"
   ]
  },
  {
   "cell_type": "markdown",
   "metadata": {},
   "source": [
    "### 주피터 노트북 사용법\n",
    "- 셀에 코드를 넣어 실행하면 됨\n",
    "- 셀에 코드 대신에 글을 쓰고 싶으면, 셀 타입을 Markdown 으로 변경하면 됨\n",
    "   - 셀에 코드를 넣고 실행이 안되면, 해당 셀의 타입이 CODE 가 아닌 다른 타입인지만 확인하면됨\n",
    "   - 특정 셀의 코드가 실행이 완료되지 않으면, 다른 셀의 코드는 실행이 안됨\n",
    "     - 이 때는 상단 메뉴 중 네모(STOP) 버튼을 눌러, 무한 루프등으로 실행되지 않은 셀을 중단시키면 됨\n",
    "- 주요 단축키\n",
    "  - 셀 코드 실행: 해당 셀 선택 후, Shift + Enter\n",
    "  - 셀 추가: 셀 선택 후, a 를 누르면 해당 셀 위에 셀이 생성되고, b 를 누르면 해당 셀 아래에 셀이 생성됨"
   ]
  },
  {
   "cell_type": "markdown",
   "metadata": {},
   "source": [
    "### Markdown 사용법\n",
    "- 개발자뿐만 아니라, 요새는 비개발 직군도 사용합니다.\n",
    "- 가벼운 사용법은 다음 셀을 더블클릭하면, 어떻게 작성된 것인지 이해할 수 있음\n",
    "  - 셀 타입이 Markdown 일 경우, Markdown 문법으로 글을 작성하고, 역실 셀 코드 실행 (Shift + Enter) 을 누르면, 이쁘게 표시됨"
   ]
  },
  {
   "cell_type": "markdown",
   "metadata": {},
   "source": [
    "# Hello markdown1\n",
    "## Hello markdown2\n",
    "### Hello markdown3\n",
    "#### Hello markdown4\n",
    "\n",
    "* 언어는 결국 변수, 조건, 반복문\n",
    "  - JAVA\n",
    "  - python \n",
    "  - C / C++\n",
    "  \n",
    "* Simple is Best!\n",
    "  - 단순하게 만드는 것이 가장 어려운 것입니다. (스티브 잡스)\n",
    "  - 언어도 단순/간결한 언어가 생산성도 좋습니다. \n",
    "  - 그러나, 개발자 성향을 가지신 분들 중 많은 분들은 복잡한 문법을 좋아합니다.\n",
    "    - 아쉽게도 이런 분들이 많아서, 저희도 어렵고 복잡한 문법을 익혀야 합니다. \n",
    "\n",
    "> 이것은 인용문: 자료에 애착이 많습니다. 절대 자료를 자신의 블로그에 오픈하지 말아주세요! 엄격하게 저작권법을 적용하고 있습니다.\n",
    "\n",
    "* 다음 세 문장은 어디가 다를까요?\n",
    "  - This is python\n",
    "  - This is *python*\n",
    "  - This is **python**\n",
    "\n",
    "* 링크 걸기: [python webpage](https://www.python.org)\n",
    "\n",
    "* 이미지 표시하기\n",
    "![python image2](https://www.raspberrypi.org/documentation/usage/python/images/python-logo.png)"
   ]
  },
  {
   "cell_type": "markdown",
   "metadata": {},
   "source": [
    "<div class=\"alert alert-block\" style=\"border: 1px solid #455A64;background-color:#ECEFF1;padding:5px;font-size:0.9em;\">\n",
    "본 자료와 관련 영상 컨텐츠는 저작권법 제25조 2항에 의해 보호를 받습니다. <br>본 컨텐츠 및 컨텐츠 일부 문구 등을 외부에 공개하거나, 요약해서 게시하지 말아주세요.\n",
    "</div>"
   ]
  }
 ],
 "metadata": {
  "kernelspec": {
   "display_name": "Python 3",
   "language": "python",
   "name": "python3"
  },
  "language_info": {
   "codemirror_mode": {
    "name": "ipython",
    "version": 3
   },
   "file_extension": ".py",
   "mimetype": "text/x-python",
   "name": "python",
   "nbconvert_exporter": "python",
   "pygments_lexer": "ipython3",
   "version": "3.8.5"
  }
 },
 "nbformat": 4,
 "nbformat_minor": 4
}
