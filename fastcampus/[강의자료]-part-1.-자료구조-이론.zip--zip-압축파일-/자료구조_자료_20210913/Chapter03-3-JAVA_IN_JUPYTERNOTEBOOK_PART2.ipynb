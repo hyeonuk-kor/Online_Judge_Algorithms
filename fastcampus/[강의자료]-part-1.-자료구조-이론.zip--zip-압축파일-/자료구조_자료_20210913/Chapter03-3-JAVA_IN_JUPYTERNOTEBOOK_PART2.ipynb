{
 "cells": [
  {
   "cell_type": "markdown",
   "metadata": {},
   "source": [
    "<div class=\"alert alert-block\" style=\"border: 1px solid #455A64;background-color:#ECEFF1;padding:5px;font-size:0.9em;\">\n",
    "본 자료와 관련 영상 컨텐츠는 저작권법 제25조 2항에 의해 보호를 받습니다. <br>본 컨텐츠 및 컨텐츠 일부 문구 등을 외부에 공개하거나, 요약해서 게시하지 말아주세요.\n",
    "</div>"
   ]
  },
  {
   "cell_type": "markdown",
   "metadata": {},
   "source": [
    "## 2. JAVA 코드 테스트\n",
    "- 다음 코드 테스트\n",
    "> 새로운 파일로 테스트하고자 한다면, jupyter notebook 에서, new 버튼 누른 후, Java 선택하면 됨"
   ]
  },
  {
   "cell_type": "markdown",
   "metadata": {},
   "source": [
    "### 2.1. 클래스 선언 및 실행\n",
    "- main 메서드가 있더라도, 일반 클래스처럼 객체로 생성하여, 호출하면 됨"
   ]
  },
  {
   "cell_type": "code",
   "execution_count": 4,
   "metadata": {},
   "outputs": [],
   "source": [
    "class Test {\n",
    "   public static void main(String[] args) {\n",
    "       System.out.println(\"Hello JAVA!\");\n",
    "   }\n",
    "   int printMessage() {\n",
    "       return 1 + 1;\n",
    "   }\n",
    "}"
   ]
  },
  {
   "cell_type": "markdown",
   "metadata": {},
   "source": [
    "### 2.2. 객체 생성 후 실행"
   ]
  },
  {
   "cell_type": "code",
   "execution_count": 5,
   "metadata": {},
   "outputs": [],
   "source": [
    "Test test = new Test();"
   ]
  },
  {
   "cell_type": "code",
   "execution_count": 6,
   "metadata": {},
   "outputs": [
    {
     "data": {
      "text/plain": [
       "2"
      ]
     },
     "execution_count": 6,
     "metadata": {},
     "output_type": "execute_result"
    }
   ],
   "source": [
    "test.printMessage();"
   ]
  },
  {
   "cell_type": "markdown",
   "metadata": {},
   "source": [
    "### 2.3. 메서드 바로 실행"
   ]
  },
  {
   "cell_type": "code",
   "execution_count": 7,
   "metadata": {},
   "outputs": [
    {
     "name": "stdout",
     "output_type": "stream",
     "text": [
      "Hello JAVA!\n"
     ]
    }
   ],
   "source": [
    "Test.main(new String[0]); // 클래스 메서드 바로 실행, 일반적인 main 선언에서는 인자를 넣어주므로, new String[0] 로 넣어줌"
   ]
  },
  {
   "cell_type": "code",
   "execution_count": 8,
   "metadata": {
    "scrolled": true
   },
   "outputs": [
    {
     "data": {
      "text/plain": [
       "2"
      ]
     },
     "execution_count": 8,
     "metadata": {},
     "output_type": "execute_result"
    }
   ],
   "source": [
    "new Test().printMessage(); // 객체로 만들며 바로 실행하는 방법"
   ]
  },
  {
   "cell_type": "markdown",
   "metadata": {},
   "source": [
    "### 2.4. 패키지 선언 및 사용\n",
    "- 주피터 노트북 상에서 패키지 임포트 실행시, 이후부터 전체 동일 주피터 노트북 파일내에서, 해당 패키지 활용 가능"
   ]
  },
  {
   "cell_type": "code",
   "execution_count": 9,
   "metadata": {},
   "outputs": [],
   "source": [
    "import java.util.Scanner;"
   ]
  },
  {
   "cell_type": "code",
   "execution_count": 10,
   "metadata": {},
   "outputs": [],
   "source": [
    "// 일부러, 2.1. 절의 클래스명과 동일하게 선언을 해보았음. 미리 선언된 클래스/변수도 언제든 다른 셀에서 새로운 코드로 변경 가능\n",
    "class Test {\n",
    "  public static void main(String[] args) {\n",
    "    Scanner myObj = new Scanner(System.in);\n",
    "    System.out.println(\"이름을 입력하고 엔터를 눌러주세요! 엔터를 누르지 않으면 이후부터 다른 셀도 실행이 안됩니다!\");\n",
    "\n",
    "    String userName = myObj.nextLine();\n",
    "    System.out.println(\"입력받은 이름은\" + userName + \"입니다\");\n",
    "  }\n",
    "}"
   ]
  },
  {
   "cell_type": "code",
   "execution_count": 11,
   "metadata": {},
   "outputs": [],
   "source": [
    "Test inputTest = new Test();"
   ]
  },
  {
   "cell_type": "markdown",
   "metadata": {},
   "source": [
    "<div class=\"alert alert-block\" style=\"border: 1px solid #FFB300;background-color:#F9FBE7;\">\n",
    "<font size=\"3em\" style=\"font-weight:bold;color:#3f8dbf;\">유의할 점</font><br>\n",
    "- 특정 셀의 실행이 완료되지 않으면, 이후 셀 실행 시, 기존 셀 실행이 완료되기를 기다리면서, 더이상 실행이 안됩니다. <br>\n",
    "- 입력창을 오픈했을 때, 해당 입력창에서 엔터를 눌러서, 입력값을 주지 않으면, 실행이 완료되지 않습니다. <br>\n",
    "- 무한 반복문등은 주피터 노트북 최상단의 네모 버튼(중지 버튼)을 눌러 강제로 실행을 중지시켜주면 됩니다.\n",
    "</div>"
   ]
  },
  {
   "cell_type": "code",
   "execution_count": 13,
   "metadata": {},
   "outputs": [
    {
     "name": "stdout",
     "output_type": "stream",
     "text": [
      "이름을 입력하고 엔터를 눌러주세요! 엔터를 누르지 않으면 이후부터 다른 셀도 실행이 안됩니다!\n",
      "1\n",
      "입력받은 이름은1입니다\n"
     ]
    }
   ],
   "source": [
    "inputTest.main(new String[0]);"
   ]
  },
  {
   "cell_type": "markdown",
   "metadata": {},
   "source": [
    "### 2.5 한번 임포트된 패키지는 다른 셀에서도 사용 가능"
   ]
  },
  {
   "cell_type": "code",
   "execution_count": 14,
   "metadata": {},
   "outputs": [],
   "source": [
    "Scanner myObj = new Scanner(System.in);"
   ]
  },
  {
   "cell_type": "code",
   "execution_count": 15,
   "metadata": {},
   "outputs": [
    {
     "name": "stdout",
     "output_type": "stream",
     "text": [
      "이름을 입력하고 엔터를 눌러주세요! 엔터를 누르지 않으면 이후부터 다른 셀도 실행이 안됩니다!\n",
      "2\n"
     ]
    }
   ],
   "source": [
    "Scanner myObj = new Scanner(System.in);\n",
    "System.out.println(\"이름을 입력하고 엔터를 눌러주세요! 엔터를 누르지 않으면 이후부터 다른 셀도 실행이 안됩니다!\");\n",
    "\n",
    "String userName = myObj.nextLine();"
   ]
  },
  {
   "cell_type": "markdown",
   "metadata": {},
   "source": [
    "### 2.6 셀의 맨 마지막 라인에 기재된 객체와 변수는 바로 해당 값을 출력합니다.\n",
    "- 어떤 변수에 어떤 값이 현재 들어있는지 확인할 때 매우 유용한 기능"
   ]
  },
  {
   "cell_type": "code",
   "execution_count": 16,
   "metadata": {},
   "outputs": [
    {
     "data": {
      "text/plain": [
       "java.util.Scanner[delimiters=\\p{javaWhitespace}+][position=2][match valid=true][need input=false][source closed=false][skipped=false][group separator=\\x{2c}][decimal separator=\\x{2e}][positive prefix=][negative prefix=\\Q-\\E][positive suffix=][negative suffix=][NaN string=\\QNaN\\E][infinity string=\\Q∞\\E]"
      ]
     },
     "execution_count": 16,
     "metadata": {},
     "output_type": "execute_result"
    }
   ],
   "source": [
    "myObj"
   ]
  },
  {
   "cell_type": "code",
   "execution_count": 17,
   "metadata": {},
   "outputs": [
    {
     "data": {
      "text/plain": [
       "2"
      ]
     },
     "execution_count": 17,
     "metadata": {},
     "output_type": "execute_result"
    }
   ],
   "source": [
    "userName"
   ]
  },
  {
   "cell_type": "markdown",
   "metadata": {},
   "source": [
    "### 2.7 main 메서드 선언 없이 막바로 코드 실행 가능"
   ]
  },
  {
   "cell_type": "code",
   "execution_count": 18,
   "metadata": {},
   "outputs": [
    {
     "name": "stdout",
     "output_type": "stream",
     "text": [
      "Output on stdout\n"
     ]
    }
   ],
   "source": [
    "System.out.println(\"Output on stdout\");"
   ]
  },
  {
   "cell_type": "code",
   "execution_count": 19,
   "metadata": {},
   "outputs": [],
   "source": [
    "String hello = \"Hello World!\";"
   ]
  },
  {
   "cell_type": "code",
   "execution_count": 20,
   "metadata": {
    "scrolled": true
   },
   "outputs": [
    {
     "data": {
      "text/plain": [
       "Hello World!"
      ]
     },
     "execution_count": 20,
     "metadata": {},
     "output_type": "execute_result"
    }
   ],
   "source": [
    "hello"
   ]
  },
  {
   "cell_type": "code",
   "execution_count": 21,
   "metadata": {},
   "outputs": [],
   "source": [
    "String hello = \"Fighting Korea!\";"
   ]
  },
  {
   "cell_type": "code",
   "execution_count": 22,
   "metadata": {},
   "outputs": [
    {
     "data": {
      "text/plain": [
       "Fighting Korea!"
      ]
     },
     "execution_count": 22,
     "metadata": {},
     "output_type": "execute_result"
    }
   ],
   "source": [
    "hello"
   ]
  },
  {
   "cell_type": "markdown",
   "metadata": {},
   "source": [
    "### 3. 강의 진행 방법\n",
    "- 주피터 노트북의 각 셀에서, 가장 마지막 라인에 변수명을 쓰면, System.out.println() 을 쓰지 않아도 해당 변수값이 출력됨\n",
    "- 마찬가지로, 주피터 노트북의 각 셀에서, 가장 마지막 라인에 함수를 쓰면, 해당 함수 리턴값이 출력됨\n",
    "- 강의는 자료와 코드를 동시에 보여드리며 이해하는 사고에 맞추어 설명하는 것이 가장 이해도가 높기 때문에, 코드를 실행해가며 설명을 드릴 예정임\n",
    "- JAVA 언어는 알고 있다고 가정하고, 진행하므로, JAVA 언어를 사용하지 못하는 경우는, 책/다른 강의를 통해, 우선 익힌 후, 수강을 추천드림\n",
    "   - JAVA 언어도 다양한 버전이 있으므로, 최소한 가장 기본적이고, 일반적인 기능만을 사용해서, 자료구조와 알고리즘을 익히는데 집중함\n",
    "- 자료구조와 알고리즘 이해에 집중하여, 각 코드는 최대한 간략한 형태 (심지어 주피터 노트북에서는 모든 코드를 클래스로 작성할 필요도 없기 때문에) 로 진행하고, 각 자료구조/알고리즘 최종 코드는 클래스 형태로 작성"
   ]
  },
  {
   "cell_type": "markdown",
   "metadata": {},
   "source": [
    "<div class=\"alert alert-block\" style=\"border: 1px solid #455A64;background-color:#ECEFF1;padding:5px;font-size:0.9em;\">\n",
    "본 자료와 관련 영상 컨텐츠는 저작권법 제25조 2항에 의해 보호를 받습니다. <br>본 컨텐츠 및 컨텐츠 일부 문구 등을 외부에 공개하거나, 요약해서 게시하지 말아주세요.\n",
    "</div>"
   ]
  }
 ],
 "metadata": {
  "kernelspec": {
   "display_name": "Java",
   "language": "java",
   "name": "java"
  },
  "language_info": {
   "codemirror_mode": "java",
   "file_extension": ".jshell",
   "mimetype": "text/x-java-source",
   "name": "Java",
   "pygments_lexer": "java",
   "version": "15.0.2+7-27"
  }
 },
 "nbformat": 4,
 "nbformat_minor": 4
}
